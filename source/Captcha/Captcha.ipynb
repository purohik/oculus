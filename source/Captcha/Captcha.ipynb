{
 "cells": [
  {
   "cell_type": "code",
   "execution_count": 1,
   "id": "411ea576-e904-472b-a99c-a4abb981f725",
   "metadata": {},
   "outputs": [],
   "source": [
    "import logging, os\n",
    "logging.disable(logging.WARNING)\n",
    "os.environ[\"TF_CPP_MIN_LOG_LEVEL\"] = \"3\"\n",
    "import tensorflow as tf\n",
    "import numpy as np\n",
    "from tensorflow import keras\n",
    "import matplotlib.pyplot as plt"
   ]
  },
  {
   "cell_type": "code",
   "execution_count": 2,
   "id": "d66e97e2",
   "metadata": {},
   "outputs": [],
   "source": [
    "ENCODING_DICT = {\n",
    "            'a': 0,\n",
    "            'f': 1,\n",
    "            'e': 2,\n",
    "            'c': 3,\n",
    "            'b': 4,\n",
    "            'h': 5,\n",
    "            'v': 6,\n",
    "            'z': 7,\n",
    "            '2': 8,\n",
    "            'x': 9,\n",
    "            'g': 10,\n",
    "            'm': 11,\n",
    "            'r': 12,\n",
    "            'u': 13,\n",
    "            'p': 14,\n",
    "            's': 15,\n",
    "            'd': 16,\n",
    "            'n': 17,\n",
    "            '6': 18,\n",
    "            'k': 19,\n",
    "            't': 20\n",
    "            }\n",
    "\n",
    "DECODING_DICT = {\n",
    "            0: 'a',\n",
    "            1: 'f',\n",
    "            2: 'e',\n",
    "            3: 'c',\n",
    "            4: 'b',\n",
    "            5: 'h',\n",
    "            6: 'v',\n",
    "            7: 'z',\n",
    "            8: '2',\n",
    "            9: 'x',\n",
    "            10: 'g',\n",
    "            11: 'm',\n",
    "            12: 'r',\n",
    "            13: 'u',\n",
    "            14: 'p',\n",
    "            15: 's',\n",
    "            16: 'd',\n",
    "            17: 'n',\n",
    "            18: '6',\n",
    "            19: 'k',\n",
    "            20: 't'\n",
    "            }"
   ]
  },
  {
   "cell_type": "code",
   "execution_count": 22,
   "id": "699961fd",
   "metadata": {},
   "outputs": [
    {
     "data": {
      "text/plain": [
       "<tf.Tensor: shape=(6,), dtype=int32, numpy=array([1, 2, 3, 7, 8, 3], dtype=int32)>"
      ]
     },
     "execution_count": 22,
     "metadata": {},
     "output_type": "execute_result"
    }
   ],
   "source": [
    "a = tf.constant([[1, 2, 3], [7, 8, 3]])\n",
    "tf.reshape(a, [-1])"
   ]
  },
  {
   "cell_type": "code",
   "execution_count": 65,
   "id": "d836ad46-0f92-45c1-a468-f99e38a468ef",
   "metadata": {},
   "outputs": [],
   "source": [
    "def imagepath_to_captcha(imagepath):\n",
    "    return imagepath.split(\"_\")[1].split(\".\")[0]\n",
    "\n",
    "def to_onehot(captcha):\n",
    "    label = np.zeros((len(captcha), len(ENCODING_DICT)))\n",
    "    for index, char in enumerate(captcha):\n",
    "        label[index, ENCODING_DICT[char]] = 1\n",
    "    return tf.convert_to_tensor(label, tf.float32)\n",
    "    # return tf.reshape(tf.convert_to_tensor(label, tf.float32), [-1])\n",
    "\n",
    "def captcha_from_onehot(tensor):\n",
    "    label = []\n",
    "    for index in tf.argmax(tensor, 1).numpy():\n",
    "        label.append(DECODING_DICT[index])\n",
    "    return \"\".join(label)\n",
    "\n",
    "def load_dataset(filepath):\n",
    "    filenames = os.listdir(filepath)\n",
    "    x, y = [], []\n",
    "    for file in filenames:\n",
    "        imagepath = filepath + \"/\" + file\n",
    "        image = tf.io.read_file(imagepath)\n",
    "        image = tf.image.decode_image(image)\n",
    "        pixels = tf.image.convert_image_dtype(image, tf.float32)\n",
    "        # To show images: \n",
    "        # plt.imshow(tf.reshape(pixels, image.shape))\n",
    "        # plt.title('Image as Pixels')\n",
    "        # plt.show()\n",
    "        x.append(pixels)\n",
    "        captcha = imagepath_to_captcha(file).lower()\n",
    "        y.append(to_onehot(captcha))\n",
    "    return (tf.convert_to_tensor(x, tf.float32), tf.convert_to_tensor(y, tf.float32))\n"
   ]
  },
  {
   "cell_type": "markdown",
   "id": "1d02ee90-266a-4262-aff6-a9990451348c",
   "metadata": {},
   "source": [
    "# Read input data"
   ]
  },
  {
   "cell_type": "code",
   "execution_count": 66,
   "id": "f2e462d9-3196-4738-a861-f30fb904d323",
   "metadata": {},
   "outputs": [
    {
     "name": "stdout",
     "output_type": "stream",
     "text": [
      "Training input shape: (8501, 50, 250, 3)\n",
      "Training output shape: (8501, 6, 21)\n",
      "Testing input shape: (1500, 50, 250, 3)\n",
      "Testing output shape: (1500, 6, 21)\n"
     ]
    }
   ],
   "source": [
    "train_x, train_y = load_dataset(\"dataset/train\")\n",
    "test_x, test_y = load_dataset(\"dataset/test\")\n",
    "\n",
    "print(\"Training input shape:\", train_x.shape)\n",
    "print(\"Training output shape:\", train_y.shape)\n",
    "print(\"Testing input shape:\", test_x.shape)\n",
    "print(\"Testing output shape:\", test_y.shape)"
   ]
  },
  {
   "cell_type": "code",
   "execution_count": 75,
   "id": "986d14cc-b514-4095-9b26-8cc79b9c9a9e",
   "metadata": {},
   "outputs": [
    {
     "name": "stdout",
     "output_type": "stream",
     "text": [
      "Model: \"sequential_22\"\n",
      "_________________________________________________________________\n",
      " Layer (type)                Output Shape              Param #   \n",
      "=================================================================\n",
      " conv2d_43 (Conv2D)          (None, 49, 249, 128)      1664      \n",
      "                                                                 \n",
      " max_pooling2d_26 (MaxPooli  (None, 24, 124, 128)      0         \n",
      " ng2D)                                                           \n",
      "                                                                 \n",
      " flatten_14 (Flatten)        (None, 380928)            0         \n",
      "                                                                 \n",
      " dense_61 (Dense)            (None, 504)               191988216 \n",
      "                                                                 \n",
      " dense_62 (Dense)            (None, 252)               127260    \n",
      "                                                                 \n",
      " dense_63 (Dense)            (None, 252)               63756     \n",
      "                                                                 \n",
      " dense_64 (Dense)            (None, 126)               31878     \n",
      "                                                                 \n",
      " reshape_7 (Reshape)         (None, 6, 21)             0         \n",
      "                                                                 \n",
      "=================================================================\n",
      "Total params: 192212774 (733.23 MB)\n",
      "Trainable params: 192212774 (733.23 MB)\n",
      "Non-trainable params: 0 (0.00 Byte)\n",
      "_________________________________________________________________\n"
     ]
    }
   ],
   "source": [
    "model = keras.models.Sequential()\n",
    "\n",
    "model.add(keras.layers.Conv2D(128, (2, 2), activation='relu', input_shape=(50, 250, 3)))\n",
    "# model.add(keras.layers.AveragePooling2D(2, 2))\n",
    "# model.add(keras.layers.BatchNormalization())\n",
    "# model.add(keras.layers.Conv2D(64, (2, 2), activation='sigmoid'))\n",
    "# model.add(keras.layers.MaxPooling2D(2, 2))\n",
    "# model.add(keras.layers.Conv2D(32, (2, 2), activation='relu'))\n",
    "model.add(keras.layers.MaxPooling2D(2, 2))\n",
    "\n",
    "model.add(keras.layers.Flatten())\n",
    "# model.add(keras.layers.Dense(8064, activation='relu'))\n",
    "# model.add(keras.layers.Dense(504, activation='relu'))\n",
    "# model.add(keras.layers.Dense(504, activation=keras.layers.LeakyReLU(alpha=0.1)))\n",
    "model.add(keras.layers.Dense(504, activation='relu'))\n",
    "model.add(keras.layers.Dense(252, activation='relu'))\n",
    "model.add(keras.layers.Dense(252, activation='relu'))\n",
    "model.add(keras.layers.Dense(126, activation='softmax'))\n",
    "model.add(keras.layers.Reshape((6, 21)))\n",
    "\n",
    "\n",
    "model.summary()"
   ]
  },
  {
   "cell_type": "code",
   "execution_count": 32,
   "id": "103ff7a5",
   "metadata": {},
   "outputs": [
    {
     "ename": "TypeError",
     "evalue": "only integer scalar arrays can be converted to a scalar index",
     "output_type": "error",
     "traceback": [
      "\u001b[0;31m---------------------------------------------------------------------------\u001b[0m",
      "\u001b[0;31mTypeError\u001b[0m                                 Traceback (most recent call last)",
      "\u001b[1;32m/usr/local/google/home/puro/workspace/oculus/source/Captcha/Captcha.ipynb Cell 8\u001b[0m line \u001b[0;36m5\n\u001b[1;32m      <a href='vscode-notebook-cell:/usr/local/google/home/puro/workspace/oculus/source/Captcha/Captcha.ipynb#W6sZmlsZQ%3D%3D?line=0'>1</a>\u001b[0m \u001b[39m# ResNet50\u001b[39;00m\n\u001b[1;32m      <a href='vscode-notebook-cell:/usr/local/google/home/puro/workspace/oculus/source/Captcha/Captcha.ipynb#W6sZmlsZQ%3D%3D?line=1'>2</a>\u001b[0m model \u001b[39m=\u001b[39m keras\u001b[39m.\u001b[39mapplications\u001b[39m.\u001b[39mResNet50(\n\u001b[1;32m      <a href='vscode-notebook-cell:/usr/local/google/home/puro/workspace/oculus/source/Captcha/Captcha.ipynb#W6sZmlsZQ%3D%3D?line=2'>3</a>\u001b[0m     include_top \u001b[39m=\u001b[39m \u001b[39mFalse\u001b[39;00m,\n\u001b[1;32m      <a href='vscode-notebook-cell:/usr/local/google/home/puro/workspace/oculus/source/Captcha/Captcha.ipynb#W6sZmlsZQ%3D%3D?line=3'>4</a>\u001b[0m     weights \u001b[39m=\u001b[39m \u001b[39mNone\u001b[39;00m,\n\u001b[0;32m----> <a href='vscode-notebook-cell:/usr/local/google/home/puro/workspace/oculus/source/Captcha/Captcha.ipynb#W6sZmlsZQ%3D%3D?line=4'>5</a>\u001b[0m input_tensor \u001b[39m=\u001b[39m keras\u001b[39m.\u001b[39;49mlayers\u001b[39m.\u001b[39;49mInput(train_x))\n",
      "File \u001b[0;32m~/workspace/oculus/virtualenv/lib/python3.11/site-packages/keras/src/utils/traceback_utils.py:70\u001b[0m, in \u001b[0;36mfilter_traceback.<locals>.error_handler\u001b[0;34m(*args, **kwargs)\u001b[0m\n\u001b[1;32m     67\u001b[0m     filtered_tb \u001b[39m=\u001b[39m _process_traceback_frames(e\u001b[39m.\u001b[39m__traceback__)\n\u001b[1;32m     68\u001b[0m     \u001b[39m# To get the full stack trace, call:\u001b[39;00m\n\u001b[1;32m     69\u001b[0m     \u001b[39m# `tf.debugging.disable_traceback_filtering()`\u001b[39;00m\n\u001b[0;32m---> 70\u001b[0m     \u001b[39mraise\u001b[39;00m e\u001b[39m.\u001b[39mwith_traceback(filtered_tb) \u001b[39mfrom\u001b[39;00m \u001b[39mNone\u001b[39;00m\n\u001b[1;32m     71\u001b[0m \u001b[39mfinally\u001b[39;00m:\n\u001b[1;32m     72\u001b[0m     \u001b[39mdel\u001b[39;00m filtered_tb\n",
      "File \u001b[0;32m~/workspace/oculus/virtualenv/lib/python3.11/site-packages/tensorflow/python/framework/ops.py:297\u001b[0m, in \u001b[0;36m_EagerTensorBase.__index__\u001b[0;34m(self)\u001b[0m\n\u001b[1;32m    296\u001b[0m \u001b[39mdef\u001b[39;00m \u001b[39m__index__\u001b[39m(\u001b[39mself\u001b[39m):\n\u001b[0;32m--> 297\u001b[0m   \u001b[39mreturn\u001b[39;00m \u001b[39mself\u001b[39;49m\u001b[39m.\u001b[39;49m_numpy()\u001b[39m.\u001b[39;49m\u001b[39m__index__\u001b[39;49m()\n",
      "\u001b[0;31mTypeError\u001b[0m: only integer scalar arrays can be converted to a scalar index"
     ]
    }
   ],
   "source": [
    "# ResNet50\n",
    "model = keras.applications.ResNet50(\n",
    "    include_top = False,\n",
    "    weights = None,\n",
    "input_tensor = keras.layers.Input(train_x))"
   ]
  },
  {
   "cell_type": "code",
   "execution_count": 76,
   "id": "c2b737ab-8b39-4b2f-b5fc-ff12fe6feeea",
   "metadata": {},
   "outputs": [],
   "source": [
    "model.compile(\n",
    "    optimizer = \"adam\",\n",
    "    loss = 'categorical_crossentropy',\n",
    "    metrics=['accuracy']\n",
    ")\n",
    "\n",
    "# graphwiz doesn't install on gLinux ffs.\n",
    "# tf.keras.utils.plot_model(model, show_shapes=True)\n"
   ]
  },
  {
   "cell_type": "code",
   "execution_count": 77,
   "id": "f05fd070",
   "metadata": {},
   "outputs": [
    {
     "name": "stdout",
     "output_type": "stream",
     "text": [
      "Epoch 1/10\n"
     ]
    },
    {
     "name": "stdout",
     "output_type": "stream",
     "text": [
      "266/266 [==============================] - 101s 377ms/step - loss: 3.4777 - accuracy: 0.0585\n",
      "Epoch 2/10\n",
      "266/266 [==============================] - 97s 366ms/step - loss: 2.5350 - accuracy: 0.2147\n",
      "Epoch 3/10\n",
      "266/266 [==============================] - 97s 367ms/step - loss: 1.5280 - accuracy: 0.5050\n",
      "Epoch 4/10\n",
      "266/266 [==============================] - 102s 384ms/step - loss: 0.7949 - accuracy: 0.7379\n",
      "Epoch 5/10\n",
      "266/266 [==============================] - 103s 386ms/step - loss: 0.3998 - accuracy: 0.8679\n",
      "Epoch 6/10\n",
      "266/266 [==============================] - 102s 382ms/step - loss: 0.2418 - accuracy: 0.9213\n",
      "Epoch 7/10\n",
      "266/266 [==============================] - 103s 386ms/step - loss: 0.1563 - accuracy: 0.9505\n",
      "Epoch 8/10\n",
      "266/266 [==============================] - 103s 388ms/step - loss: 0.1266 - accuracy: 0.9594\n",
      "Epoch 9/10\n",
      "266/266 [==============================] - 102s 382ms/step - loss: 0.1109 - accuracy: 0.9651\n",
      "Epoch 10/10\n",
      "266/266 [==============================] - 103s 386ms/step - loss: 0.1106 - accuracy: 0.9646\n",
      "{'loss': [3.477741241455078, 2.534959316253662, 1.527955174446106, 0.7949340343475342, 0.3998064398765564, 0.2418251782655716, 0.15634451806545258, 0.12664932012557983, 0.1109076663851738, 0.11064271628856659], 'accuracy': [0.0585029199719429, 0.21470023691654205, 0.5049797892570496, 0.7378935813903809, 0.8679370880126953, 0.9212837815284729, 0.950535237789154, 0.9593773484230042, 0.9651021361351013, 0.9645727872848511]}\n"
     ]
    }
   ],
   "source": [
    "history = model.fit(train_x, train_y,\n",
    "                    epochs = 5)\n",
    "\n",
    "print(history.history)"
   ]
  },
  {
   "cell_type": "code",
   "execution_count": 78,
   "id": "3602e777",
   "metadata": {},
   "outputs": [
    {
     "name": "stdout",
     "output_type": "stream",
     "text": [
      "47/47 [==============================] - 2s 39ms/step - loss: 2.6031 - accuracy: 0.5587\n"
     ]
    },
    {
     "data": {
      "text/plain": [
       "[2.603121519088745, 0.5586666464805603]"
      ]
     },
     "execution_count": 78,
     "metadata": {},
     "output_type": "execute_result"
    }
   ],
   "source": [
    "model.evaluate(test_x, test_y)"
   ]
  }
 ],
 "metadata": {
  "kernelspec": {
   "display_name": "Python 3 (ipykernel)",
   "language": "python",
   "name": "python3"
  },
  "language_info": {
   "codemirror_mode": {
    "name": "ipython",
    "version": 3
   },
   "file_extension": ".py",
   "mimetype": "text/x-python",
   "name": "python",
   "nbconvert_exporter": "python",
   "pygments_lexer": "ipython3",
   "version": "3.11.5"
  }
 },
 "nbformat": 4,
 "nbformat_minor": 5
}
