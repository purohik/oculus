{
 "cells": [
  {
   "cell_type": "code",
   "execution_count": 114,
   "id": "411ea576-e904-472b-a99c-a4abb981f725",
   "metadata": {},
   "outputs": [],
   "source": [
    "import logging, os\n",
    "logging.disable(logging.WARNING)\n",
    "os.environ[\"TF_CPP_MIN_LOG_LEVEL\"] = \"3\"\n",
    "import tensorflow as tf\n",
    "import numpy as np\n",
    "from tensorflow import keras\n",
    "import matplotlib.pyplot as plt"
   ]
  },
  {
   "cell_type": "code",
   "execution_count": 115,
   "id": "d66e97e2",
   "metadata": {},
   "outputs": [],
   "source": [
    "ENCODING_DICT = {\n",
    "            'a': 0,\n",
    "            'f': 1,\n",
    "            'e': 2,\n",
    "            'c': 3,\n",
    "            'b': 4,\n",
    "            'h': 5,\n",
    "            'v': 6,\n",
    "            'z': 7,\n",
    "            '2': 8,\n",
    "            'x': 9,\n",
    "            'g': 10,\n",
    "            'm': 11,\n",
    "            'r': 12,\n",
    "            'u': 13,\n",
    "            'p': 14,\n",
    "            's': 15,\n",
    "            'd': 16,\n",
    "            'n': 17,\n",
    "            '6': 18,\n",
    "            'k': 19,\n",
    "            't': 20\n",
    "            }\n",
    "\n",
    "DECODING_DICT = {\n",
    "            0: 'a',\n",
    "            1: 'f',\n",
    "            2: 'e',\n",
    "            3: 'c',\n",
    "            4: 'b',\n",
    "            5: 'h',\n",
    "            6: 'v',\n",
    "            7: 'z',\n",
    "            8: '2',\n",
    "            9: 'x',\n",
    "            10: 'g',\n",
    "            11: 'm',\n",
    "            12: 'r',\n",
    "            13: 'u',\n",
    "            14: 'p',\n",
    "            15: 's',\n",
    "            16: 'd',\n",
    "            17: 'n',\n",
    "            18: '6',\n",
    "            19: 'k',\n",
    "            20: 't'\n",
    "            }"
   ]
  },
  {
   "cell_type": "code",
   "execution_count": 116,
   "id": "d836ad46-0f92-45c1-a468-f99e38a468ef",
   "metadata": {},
   "outputs": [],
   "source": [
    "def imagepath_to_captcha(imagepath):\n",
    "    return imagepath.split(\"_\")[1].split(\".\")[0]\n",
    "\n",
    "def to_onehot(captcha):\n",
    "    label = np.zeros((len(captcha), len(ENCODING_DICT)))\n",
    "    for index, char in enumerate(captcha):\n",
    "        label[index, ENCODING_DICT[char]] = 1\n",
    "    return tf.convert_to_tensor(label, tf.float32)\n",
    "    # return tf.reshape(tf.convert_to_tensor(label, tf.float32), [-1])\n",
    "\n",
    "def captcha_from_onehot(tensor):\n",
    "    label = []\n",
    "    for index in tf.argmax(tensor, 1).numpy():\n",
    "        label.append(DECODING_DICT[index])\n",
    "    return \"\".join(label)\n",
    "\n",
    "def load_dataset(filepath):\n",
    "    filenames = os.listdir(filepath)\n",
    "    x, y = [], []\n",
    "    for file in filenames:\n",
    "        imagepath = filepath + \"/\" + file\n",
    "        image = tf.io.read_file(imagepath)\n",
    "        image = tf.image.decode_image(image)\n",
    "        pixels = tf.image.convert_image_dtype(image, tf.float32)\n",
    "        # To show images: \n",
    "        # plt.imshow(tf.reshape(pixels, image.shape))\n",
    "        # plt.title('Image as Pixels')\n",
    "        # plt.show()\n",
    "        x.append(pixels)\n",
    "        captcha = imagepath_to_captcha(file).lower()\n",
    "        y.append(to_onehot(captcha))\n",
    "    return (tf.convert_to_tensor(x, tf.float32), tf.convert_to_tensor(y, tf.float32))\n"
   ]
  },
  {
   "cell_type": "markdown",
   "id": "1d02ee90-266a-4262-aff6-a9990451348c",
   "metadata": {},
   "source": [
    "# Read input data"
   ]
  },
  {
   "cell_type": "code",
   "execution_count": 117,
   "id": "f2e462d9-3196-4738-a861-f30fb904d323",
   "metadata": {},
   "outputs": [
    {
     "name": "stdout",
     "output_type": "stream",
     "text": [
      "Training input shape: (8501, 50, 250, 3)\n",
      "Training output shape: (8501, 6, 21)\n",
      "Testing input shape: (1500, 50, 250, 3)\n",
      "Testing output shape: (1500, 6, 21)\n"
     ]
    }
   ],
   "source": [
    "train_x, train_y = load_dataset(\"dataset/train\")\n",
    "test_x, test_y = load_dataset(\"dataset/test\")\n",
    "\n",
    "print(\"Training input shape:\", train_x.shape)\n",
    "print(\"Training output shape:\", train_y.shape)\n",
    "print(\"Testing input shape:\", test_x.shape)\n",
    "print(\"Testing output shape:\", test_y.shape)"
   ]
  },
  {
   "cell_type": "code",
   "execution_count": 141,
   "id": "986d14cc-b514-4095-9b26-8cc79b9c9a9e",
   "metadata": {},
   "outputs": [
    {
     "name": "stdout",
     "output_type": "stream",
     "text": [
      "Model: \"sequential_36\"\n",
      "_________________________________________________________________\n",
      " Layer (type)                Output Shape              Param #   \n",
      "=================================================================\n",
      " conv2d_68 (Conv2D)          (None, 47, 247, 64)       3136      \n",
      "                                                                 \n",
      " max_pooling2d_50 (MaxPooli  (None, 15, 82, 64)        0         \n",
      " ng2D)                                                           \n",
      "                                                                 \n",
      " conv2d_69 (Conv2D)          (None, 14, 81, 64)        16448     \n",
      "                                                                 \n",
      " max_pooling2d_51 (MaxPooli  (None, 7, 40, 64)         0         \n",
      " ng2D)                                                           \n",
      "                                                                 \n",
      " flatten_28 (Flatten)        (None, 17920)             0         \n",
      "                                                                 \n",
      " dense_95 (Dense)            (None, 252)               4516092   \n",
      "                                                                 \n",
      " dense_96 (Dense)            (None, 126)               31878     \n",
      "                                                                 \n",
      " reshape_21 (Reshape)        (None, 6, 21)             0         \n",
      "                                                                 \n",
      "=================================================================\n",
      "Total params: 4567554 (17.42 MB)\n",
      "Trainable params: 4567554 (17.42 MB)\n",
      "Non-trainable params: 0 (0.00 Byte)\n",
      "_________________________________________________________________\n"
     ]
    }
   ],
   "source": [
    "model = keras.models.Sequential()\n",
    "\n",
    "model.add(keras.layers.Conv2D(64, (4, 4), activation='relu', input_shape=(50, 250, 3)))\n",
    "# model.add(keras.layers.AveragePooling2D(2, 2))\n",
    "model.add(keras.layers.MaxPooling2D(3, 3))\n",
    "# model.add(keras.layers.BatchNormalization())\n",
    "# model.add(keras.layers.Conv2D(64, (2, 2), activation='sigmoid'))\n",
    "# model.add(keras.layers.MaxPooling2D(2, 2))\n",
    "model.add(keras.layers.Conv2D(64, (2, 2), activation='relu'))\n",
    "model.add(keras.layers.MaxPooling2D(2, 2))\n",
    "\n",
    "model.add(keras.layers.Flatten())\n",
    "# model.add(keras.layers.Dense(8064, activation='relu'))\n",
    "# model.add(keras.layers.Dense(504, activation='relu'))\n",
    "# model.add(keras.layers.Dense(504, activation=keras.layers.LeakyReLU(alpha=0.1)))\n",
    "# model.add(keras.layers.Dense(504, activation='relu'))\n",
    "model.add(keras.layers.Dense(252, activation='relu'))\n",
    "# model.add(keras.layers.Dense(126, activation='relu'))\n",
    "model.add(keras.layers.Dense(126, activation='softmax'))\n",
    "model.add(keras.layers.Reshape((6, 21)))\n",
    "\n",
    "\n",
    "model.summary()"
   ]
  },
  {
   "cell_type": "code",
   "execution_count": 119,
   "id": "103ff7a5",
   "metadata": {},
   "outputs": [],
   "source": [
    "# ResNet50\n",
    "# model = keras.applications.ResNet50(\n",
    "#     include_top = False,\n",
    "#     weights = None,\n",
    "# input_tensor = keras.layers.Input(train_x))"
   ]
  },
  {
   "cell_type": "code",
   "execution_count": 142,
   "id": "c2b737ab-8b39-4b2f-b5fc-ff12fe6feeea",
   "metadata": {},
   "outputs": [],
   "source": [
    "model.compile(\n",
    "    optimizer = \"adam\",\n",
    "    loss = 'categorical_crossentropy',\n",
    "    metrics=['accuracy']\n",
    ")\n",
    "\n",
    "# graphwiz doesn't install on gLinux ffs.\n",
    "# tf.keras.utils.plot_model(model, show_shapes=True)\n"
   ]
  },
  {
   "cell_type": "code",
   "execution_count": 143,
   "id": "f05fd070",
   "metadata": {},
   "outputs": [
    {
     "name": "stdout",
     "output_type": "stream",
     "text": [
      "Epoch 1/5\n",
      "266/266 [==============================] - 14s 52ms/step - loss: 2.5141 - accuracy: 0.2262\n",
      "Epoch 2/5\n",
      "266/266 [==============================] - 14s 51ms/step - loss: 0.7975 - accuracy: 0.7542\n",
      "Epoch 3/5\n",
      "266/266 [==============================] - 14s 51ms/step - loss: 0.2676 - accuracy: 0.9191\n",
      "Epoch 4/5\n",
      "266/266 [==============================] - 14s 51ms/step - loss: 0.1064 - accuracy: 0.9705\n",
      "Epoch 5/5\n",
      "266/266 [==============================] - 14s 52ms/step - loss: 0.0535 - accuracy: 0.9858\n",
      "{'loss': [2.514052152633667, 0.7974798083305359, 0.26762470602989197, 0.10644431412220001, 0.05353095754981041], 'accuracy': [0.22618907690048218, 0.7542054057121277, 0.9191467761993408, 0.9705132842063904, 0.985785961151123]}\n"
     ]
    }
   ],
   "source": [
    "history = model.fit(train_x, train_y,\n",
    "                    epochs = 5)\n",
    "\n",
    "print(history.history)"
   ]
  },
  {
   "cell_type": "code",
   "execution_count": 144,
   "id": "3602e777",
   "metadata": {},
   "outputs": [
    {
     "name": "stdout",
     "output_type": "stream",
     "text": [
      "47/47 [==============================] - 1s 14ms/step - loss: 0.7417 - accuracy: 0.8267\n"
     ]
    },
    {
     "data": {
      "text/plain": [
       "[0.741707980632782, 0.8266666531562805]"
      ]
     },
     "execution_count": 144,
     "metadata": {},
     "output_type": "execute_result"
    }
   ],
   "source": [
    "model.evaluate(test_x, test_y)"
   ]
  }
 ],
 "metadata": {
  "kernelspec": {
   "display_name": "Python 3 (ipykernel)",
   "language": "python",
   "name": "python3"
  },
  "language_info": {
   "codemirror_mode": {
    "name": "ipython",
    "version": 3
   },
   "file_extension": ".py",
   "mimetype": "text/x-python",
   "name": "python",
   "nbconvert_exporter": "python",
   "pygments_lexer": "ipython3",
   "version": "3.11.5"
  }
 },
 "nbformat": 4,
 "nbformat_minor": 5
}
