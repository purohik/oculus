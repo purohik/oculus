{
 "cells": [
  {
   "cell_type": "code",
   "execution_count": 75,
   "id": "411ea576-e904-472b-a99c-a4abb981f725",
   "metadata": {},
   "outputs": [],
   "source": [
    "import tensorflow as tf\n",
    "from tensorflow import keras\n",
    "import matplotlib.pyplot as plt"
   ]
  },
  {
   "cell_type": "code",
   "execution_count": 76,
   "id": "d836ad46-0f92-45c1-a468-f99e38a468ef",
   "metadata": {},
   "outputs": [],
   "source": [
    "def imagepath_to_captcha(imagepath):\n",
    "    return imagepath.split(\"_\")[1].split(\".\")[0]\n",
    "\n",
    "def load_dataset(filepath):\n",
    "    filenames = os.listdir(filepath)\n",
    "    x, y = [], []\n",
    "    for file in filenames:\n",
    "        imagepath = filepath + \"/\" + file\n",
    "        image = tf.io.read_file(imagepath)\n",
    "        image = tf.image.decode_image(image)\n",
    "        pixels = tf.image.convert_image_dtype(image, tf.float32)\n",
    "        pixels = tf.reshape(pixels, [-1, 3])\n",
    "        # To show images: \n",
    "        # plt.imshow(tf.reshape(pixels, image.shape))\n",
    "        # plt.title('Image as Pixels')\n",
    "        # plt.show()\n",
    "        x.append(pixels)\n",
    "        y.append(imagepath_to_captcha(file))\n",
    "    return (tf.convert_to_tensor(x), tf.convert_to_tensor(y))\n"
   ]
  },
  {
   "cell_type": "markdown",
   "id": "1d02ee90-266a-4262-aff6-a9990451348c",
   "metadata": {},
   "source": [
    "# Read input data"
   ]
  },
  {
   "cell_type": "code",
   "execution_count": 77,
   "id": "f2e462d9-3196-4738-a861-f30fb904d323",
   "metadata": {},
   "outputs": [
    {
     "name": "stdout",
     "output_type": "stream",
     "text": [
      "Training input shape: (8501, 12500, 3)\n",
      "Training output shape: (8501,)\n",
      "Testing input shape: (1500, 12500, 3)\n",
      "Testing output shape: (1500, 12500, 3)\n"
     ]
    }
   ],
   "source": [
    "train_x, train_y = load_dataset(\"captchas/train\")\n",
    "test_x, test_y = load_dataset(\"captchas/test\")\n",
    "\n",
    "print(\"Training input shape:\", train_x.shape)\n",
    "print(\"Training output shape:\", train_y.shape)\n",
    "print(\"Testing input shape:\", test_x.shape)\n",
    "print(\"Testing output shape:\", test_x.shape)"
   ]
  },
  {
   "cell_type": "code",
   "execution_count": 74,
   "id": "986d14cc-b514-4095-9b26-8cc79b9c9a9e",
   "metadata": {},
   "outputs": [
    {
     "data": {
      "text/plain": [
       "TensorShape([12500, 3])"
      ]
     },
     "execution_count": 74,
     "metadata": {},
     "output_type": "execute_result"
    }
   ],
   "source": []
  },
  {
   "cell_type": "code",
   "execution_count": 70,
   "id": "c2b737ab-8b39-4b2f-b5fc-ff12fe6feeea",
   "metadata": {},
   "outputs": [
    {
     "data": {
      "text/plain": [
       "<tf.Tensor: shape=(3,), dtype=int32, numpy=array([ 1, 54,  3], dtype=int32)>"
      ]
     },
     "execution_count": 70,
     "metadata": {},
     "output_type": "execute_result"
    }
   ],
   "source": []
  }
 ],
 "metadata": {
  "kernelspec": {
   "display_name": "Python 3 (ipykernel)",
   "language": "python",
   "name": "python3"
  },
  "language_info": {
   "codemirror_mode": {
    "name": "ipython",
    "version": 3
   },
   "file_extension": ".py",
   "mimetype": "text/x-python",
   "name": "python",
   "nbconvert_exporter": "python",
   "pygments_lexer": "ipython3",
   "version": "3.11.5"
  }
 },
 "nbformat": 4,
 "nbformat_minor": 5
}
